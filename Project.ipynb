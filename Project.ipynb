{
  "cells": [
    {
      "cell_type": "code",
      "execution_count": null,
      "metadata": {
        "colab": {
          "base_uri": "https://localhost:8080/"
        },
        "id": "IgS9hK859Ts5",
        "outputId": "f714e608-84b8-4c37-aa7a-eebca3d5ce4b"
      },
      "outputs": [
        {
          "output_type": "stream",
          "name": "stdout",
          "text": [
            "Looking in indexes: https://pypi.org/simple, https://us-python.pkg.dev/colab-wheels/public/simple/\n",
            "Requirement already satisfied: torchinfo in /usr/local/lib/python3.8/dist-packages (1.7.1)\n",
            "Looking in indexes: https://pypi.org/simple, https://us-python.pkg.dev/colab-wheels/public/simple/\n",
            "Requirement already satisfied: torchmetrics in /usr/local/lib/python3.8/dist-packages (0.11.0)\n",
            "Requirement already satisfied: torch>=1.8.1 in /usr/local/lib/python3.8/dist-packages (from torchmetrics) (1.12.1+cu113)\n",
            "Requirement already satisfied: typing-extensions in /usr/local/lib/python3.8/dist-packages (from torchmetrics) (4.1.1)\n",
            "Requirement already satisfied: numpy>=1.17.2 in /usr/local/lib/python3.8/dist-packages (from torchmetrics) (1.21.6)\n",
            "Requirement already satisfied: packaging in /usr/local/lib/python3.8/dist-packages (from torchmetrics) (21.3)\n",
            "Requirement already satisfied: pyparsing!=3.0.5,>=2.0.2 in /usr/local/lib/python3.8/dist-packages (from packaging->torchmetrics) (3.0.9)\n"
          ]
        }
      ],
      "source": [
        "!pip install torchinfo\n",
        "!pip install torchmetrics"
      ]
    },
    {
      "cell_type": "code",
      "execution_count": null,
      "metadata": {
        "id": "gIcgjnzepVAT"
      },
      "outputs": [],
      "source": [
        "# Importing required libraries\n",
        "import torch\n",
        "import torch.nn as nn\n",
        "import torch.nn.functional as F\n",
        "import torch.optim as opt\n",
        "from torchvision import datasets, transforms, models\n",
        "from tqdm.auto import tqdm\n",
        "from torchinfo import summary\n",
        "import matplotlib.pyplot as plt\n",
        "from torchmetrics.classification import BinaryF1Score, ConfusionMatrix"
      ]
    },
    {
      "cell_type": "code",
      "execution_count": null,
      "metadata": {
        "id": "0p2IgYKz9rjc"
      },
      "outputs": [],
      "source": [
        "torch.manual_seed(42)\n",
        "torch.cuda.manual_seed(42)"
      ]
    },
    {
      "cell_type": "code",
      "execution_count": null,
      "metadata": {
        "colab": {
          "base_uri": "https://localhost:8080/"
        },
        "id": "Zc_D4cliYl_z",
        "outputId": "a6b8dbbc-f6e8-45a3-9ac9-bf391bfe4ebb"
      },
      "outputs": [
        {
          "output_type": "stream",
          "name": "stdout",
          "text": [
            "Drive already mounted at /content/drive; to attempt to forcibly remount, call drive.mount(\"/content/drive\", force_remount=True).\n"
          ]
        }
      ],
      "source": [
        "from google.colab import drive\n",
        "drive.mount('/content/drive')"
      ]
    },
    {
      "cell_type": "code",
      "execution_count": null,
      "metadata": {
        "colab": {
          "base_uri": "https://localhost:8080/"
        },
        "id": "__eyoVUmZRR3",
        "outputId": "6af43b5b-8589-400e-9ee9-de963eeb98c2"
      },
      "outputs": [
        {
          "output_type": "execute_result",
          "data": {
            "text/plain": [
              "(253, 253)"
            ]
          },
          "metadata": {},
          "execution_count": 22
        }
      ],
      "source": [
        "import os\n",
        "dataset_path = r'/content/drive/MyDrive/brain_tumor_dataset'\n",
        "\n",
        "files = []\n",
        "labels = []\n",
        "\n",
        "for label in ['yes','no']:\n",
        "    for dirname, _, filenames in os.walk(os.path.join(dataset_path,label)):\n",
        "        for filename in filenames:\n",
        "            files.append(os.path.join(dirname, filename))\n",
        "            labels.append(1 if label == 'yes' else 0)\n",
        "\n",
        "len(files), len(labels)"
      ]
    },
    {
      "cell_type": "code",
      "execution_count": null,
      "metadata": {
        "id": "yB7nF4vn46SP"
      },
      "outputs": [],
      "source": [
        "def train_step(model: torch.nn.Module,\n",
        "               dataloader: torch.utils.data.DataLoader,\n",
        "               loss_fn: torch.nn.Module,\n",
        "               optimizer: torch.optim.Optimizer):\n",
        "    # Put model in train mode\n",
        "    model.train()\n",
        "\n",
        "    # Setup train loss and train accuracy values\n",
        "    train_loss, train_acc, train_f1 = 0, 0, 0\n",
        "    F1 = BinaryF1Score().to(device)\n",
        "\n",
        "    # Loop through data loader data batches\n",
        "    for batch, (X, y) in enumerate(dataloader):\n",
        "        # Send data to target device\n",
        "        X, y = X.to(device), y.to(device)\n",
        "\n",
        "        # 1. Forward pass\n",
        "        y_pred = model(X)\n",
        "\n",
        "        # 2. Calculate  and accumulate loss\n",
        "        loss = loss_fn(y_pred, y)\n",
        "        train_loss += loss.item()\n",
        "\n",
        "        # 3. Optimizer zero grad\n",
        "        optimizer.zero_grad()\n",
        "\n",
        "        # 4. Loss backward\n",
        "        loss.backward()\n",
        "\n",
        "        # 5. Optimizer step\n",
        "        optimizer.step()\n",
        "\n",
        "        # Calculate and accumulate accuracy metric across all batches\n",
        "        y_pred_class = torch.argmax(torch.softmax(y_pred, dim=1), dim=1)\n",
        "        train_acc += (y_pred_class == y).sum().item()/len(y_pred)\n",
        "        train_f1 += F1(y_pred_class, y).item()\n",
        "\n",
        "    # Adjust metrics to get average loss and accuracy per batch\n",
        "    train_loss = train_loss / len(dataloader)\n",
        "    train_acc = train_acc / len(dataloader)\n",
        "    train_f1 = train_f1 / len(dataloader)\n",
        "    return train_loss, train_acc, train_f1"
      ]
    },
    {
      "cell_type": "code",
      "execution_count": null,
      "metadata": {
        "id": "xRvo7Tx446ly"
      },
      "outputs": [],
      "source": [
        "def test_step(model: torch.nn.Module,\n",
        "              dataloader: torch.utils.data.DataLoader,\n",
        "              loss_fn: torch.nn.Module):\n",
        "    # Put model in eval mode\n",
        "    model.eval()\n",
        "\n",
        "    F1 = BinaryF1Score().to(device)\n",
        "\n",
        "    # Setup test loss and test accuracy values\n",
        "    test_loss, test_acc, test_f1 = 0, 0, 0\n",
        "\n",
        "    # Turn on inference context manager\n",
        "    with torch.inference_mode():\n",
        "        # Loop through DataLoader batches\n",
        "        for batch, (X, y) in enumerate(dataloader):\n",
        "            # Send data to target device\n",
        "            X, y = X.to(device), y.to(device)\n",
        "\n",
        "            # 1. Forward pass\n",
        "            test_pred_logits = model(X)\n",
        "\n",
        "            # 2. Calculate and accumulate loss\n",
        "            loss = loss_fn(test_pred_logits, y)\n",
        "            test_loss += loss.item()\n",
        "\n",
        "            # Calculate and accumulate accuracy\n",
        "            test_pred_labels = test_pred_logits.argmax(dim=1)\n",
        "            test_acc += ((test_pred_labels == y).sum().item()/len(test_pred_labels))\n",
        "            test_f1 += F1(test_pred_labels, y).item()\n",
        "\n",
        "    # Adjust metrics to get average loss and accuracy per batch\n",
        "    test_loss = test_loss / len(dataloader)\n",
        "    test_acc = test_acc / len(dataloader)\n",
        "    test_f1 = test_f1 / len(dataloader)\n",
        "    return test_loss, test_acc, test_f1"
      ]
    },
    {
      "cell_type": "code",
      "execution_count": null,
      "metadata": {
        "id": "QjMO-hdH462K"
      },
      "outputs": [],
      "source": [
        "\n",
        "# 1. Take in various parameters required for training and test steps\n",
        "def train(model: torch.nn.Module,\n",
        "          train_dataloader: torch.utils.data.DataLoader,\n",
        "          test_dataloader: torch.utils.data.DataLoader,\n",
        "          optimizer: torch.optim.Optimizer,\n",
        "          loss_fn: torch.nn.Module = nn.CrossEntropyLoss(),\n",
        "          epochs: int = 5):\n",
        "\n",
        "    # 2. Create empty results dictionary\n",
        "    results = {\"train_loss\": [],\n",
        "        \"train_acc\": [],\n",
        "        \"test_loss\": [],\n",
        "        \"test_acc\": [],\n",
        "        \"train_f1\": [],\n",
        "        \"test_f1\": []\n",
        "    }\n",
        "\n",
        "    # 3. Loop through training and testing steps for a number of epochs\n",
        "    for epoch in tqdm(range(epochs)):\n",
        "        train_loss, train_acc, train_f1 = train_step(model=model,\n",
        "                                           dataloader=train_dataloader,\n",
        "                                           loss_fn=loss_fn,\n",
        "                                           optimizer=optimizer)\n",
        "        test_loss, test_acc, test_f1 = test_step(model=model,\n",
        "            dataloader=test_dataloader,\n",
        "            loss_fn=loss_fn)\n",
        "\n",
        "        # 4. Print out what's happening\n",
        "        print(\n",
        "            f\"Epoch: {epoch+1} | \"\n",
        "            f\"train_loss: {train_loss:.4f} | \"\n",
        "            f\"train_acc: {train_acc:.4f} | \"\n",
        "            f\"test_loss: {test_loss:.4f} | \"\n",
        "            f\"test_acc: {test_acc:.4f} | \"\n",
        "            f\"train_f1: {train_f1:.4f} | \"\n",
        "            f\"test_f1: {test_f1:.4f}\"\n",
        "\n",
        "        )\n",
        "\n",
        "        # 5. Update results dictionary\n",
        "        results[\"train_loss\"].append(train_loss)\n",
        "        results[\"train_acc\"].append(train_acc)\n",
        "        results[\"test_loss\"].append(test_loss)\n",
        "        results[\"test_acc\"].append(test_acc)\n",
        "        results[\"train_f1\"].append(train_f1)\n",
        "        results[\"test_f1\"].append(test_f1)\n",
        "\n",
        "\n",
        "    # 6. Return the filled results at the end of the epochs\n",
        "    return results"
      ]
    },
    {
      "cell_type": "code",
      "execution_count": null,
      "metadata": {
        "id": "sSQviNWr9yWu"
      },
      "outputs": [],
      "source": [
        "def plot_loss_curves(result):\n",
        "\n",
        "    # Get the loss values of the results dictionary (training and test)\n",
        "    loss = result['train_loss']\n",
        "    test_loss = result['test_loss']\n",
        "\n",
        "    # Get the accuracy values of the results dictionary (training and test)\n",
        "    accuracy = results['train_acc']\n",
        "    test_accuracy = results['test_acc']\n",
        "\n",
        "    f1 = results['train_f1']\n",
        "    test_f1 = results['test_f1']\n",
        "    # Figure out how many epochs there were\n",
        "    epochs = range(len(results['train_loss']))\n",
        "\n",
        "    # Setup a plot\n",
        "    plt.figure(figsize=(24, 7))\n",
        "\n",
        "    # Plot loss\n",
        "    plt.subplot(1, 3, 1)\n",
        "    plt.plot(epochs, loss, label='train_loss')\n",
        "    plt.plot(epochs, test_loss, label='test_loss')\n",
        "    plt.title('Loss')\n",
        "    plt.xlabel('Epochs')\n",
        "    plt.legend()\n",
        "\n",
        "    # Plot accuracy\n",
        "    plt.subplot(1, 3, 2)\n",
        "    plt.plot(epochs, accuracy, label='train_accuracy')\n",
        "    plt.plot(epochs, test_accuracy, label='test_accuracy')\n",
        "    plt.title('Accuracy')\n",
        "    plt.xlabel('Epochs')\n",
        "    plt.legend()\n",
        "\n",
        "    # Plot F1 score\n",
        "    plt.subplot(1, 3, 3)\n",
        "    plt.plot(epochs, f1, label='train_f1')\n",
        "    plt.plot(epochs, test_f1, label='test_f1')\n",
        "    plt.title('F1 Score')\n",
        "    plt.xlabel('Epochs')\n",
        "    plt.legend()"
      ]
    },
    {
      "cell_type": "code",
      "execution_count": null,
      "metadata": {
        "colab": {
          "base_uri": "https://localhost:8080/"
        },
        "id": "-wgcndaQoTii",
        "outputId": "66014d57-0e49-4c88-c05d-05f689c09ca4"
      },
      "outputs": [
        {
          "output_type": "execute_result",
          "data": {
            "text/plain": [
              "ImageClassification(\n",
              "    crop_size=[224]\n",
              "    resize_size=[256]\n",
              "    mean=[0.485, 0.456, 0.406]\n",
              "    std=[0.229, 0.224, 0.225]\n",
              "    interpolation=InterpolationMode.BILINEAR\n",
              ")"
            ]
          },
          "metadata": {},
          "execution_count": 27
        }
      ],
      "source": [
        "auto_transforms = models.ResNet18_Weights.IMAGENET1K_V1.transforms()\n",
        "auto_transforms"
      ]
    },
    {
      "cell_type": "code",
      "execution_count": null,
      "metadata": {
        "id": "0DjtQKqcCB2H"
      },
      "outputs": [],
      "source": [
        "batch_size = 64\n",
        "# Change Tranforms accordong to the model\n",
        "transform = {\n",
        "    'train': transforms.Compose([\n",
        "        transforms.ToTensor(),\n",
        "        transforms.Resize((224, 224)),\n",
        "        transforms.Normalize(mean=[0.485, 0.456, 0.406],\n",
        "                             std=[0.229, 0.224, 0.225])]),\n",
        "    'test': transforms.Compose([\n",
        "        transforms.ToTensor(),\n",
        "        transforms.Resize((224, 224)),\n",
        "        transforms.Normalize(mean=[0.485, 0.456, 0.406],\n",
        "                             std=[0.229, 0.224, 0.225])])\n",
        "}\n",
        "test_data = datasets.ImageFolder('/content/drive/MyDrive/brain_tumor_dataset', transform = transform[\"train\"])\n",
        "train_data = datasets.ImageFolder('//content/drive/MyDrive/brain_tumor_dataset',  transform = transform[\"test\"])\n",
        "\n",
        "train_loader = torch.utils.data.DataLoader(train_data, shuffle=True, batch_size=batch_size)\n",
        "test_loader = torch.utils.data.DataLoader(test_data, shuffle=True, batch_size=batch_size)"
      ]
    },
    {
      "cell_type": "code",
      "execution_count": null,
      "metadata": {
        "colab": {
          "base_uri": "https://localhost:8080/"
        },
        "id": "ywOkNd3bwBdp",
        "outputId": "026ce564-bec2-4516-834e-2b56f332b780"
      },
      "outputs": [
        {
          "output_type": "stream",
          "name": "stderr",
          "text": [
            "/usr/local/lib/python3.8/dist-packages/torchvision/models/_utils.py:135: UserWarning: Using 'weights' as positional parameter(s) is deprecated since 0.13 and will be removed in 0.15. Please use keyword parameter(s) instead.\n",
            "  warnings.warn(\n"
          ]
        }
      ],
      "source": [
        "device = torch.device('cuda' if torch.cuda.is_available() else 'cpu')\n",
        "\n",
        "# Change model\n",
        "model = models.resnet18(models.ResNet18_Weights.IMAGENET1K_V1).to(device)\n",
        "\n",
        "#Freeze all base layers in the \"features\" section of the model (the feature extractor) by setting requires_grad=False\n",
        "for param in model.parameters():\n",
        "    param.requires_grad = False\n",
        "\n",
        "model.fc = nn.Sequential(\n",
        "    nn.BatchNorm1d(512),\n",
        "    nn.Dropout(0.2),\n",
        "    nn.Linear(512, 256),\n",
        "    nn.ReLU(),\n",
        "    nn.BatchNorm1d(256),\n",
        "    nn.Dropout(0.2),\n",
        "    nn.Linear(256, 128),\n",
        "    nn.ReLU(),\n",
        "    nn.BatchNorm1d(128),\n",
        "    nn.Dropout(0.2),\n",
        "    nn.Linear(128, 2),\n",
        "    ).to(device)"
      ]
    },
    {
      "cell_type": "markdown",
      "metadata": {
        "id": "71gHxF8usdae"
      },
      "source": [
        "Model Summary"
      ]
    },
    {
      "cell_type": "code",
      "execution_count": null,
      "metadata": {
        "colab": {
          "base_uri": "https://localhost:8080/"
        },
        "id": "jzBnmJov_HnC",
        "outputId": "461683c6-7686-42a8-c826-50e43bc5a78c"
      },
      "outputs": [
        {
          "output_type": "execute_result",
          "data": {
            "text/plain": [
              "========================================================================================================================\n",
              "Layer (type (var_name))                  Input Shape          Output Shape         Param #              Trainable\n",
              "========================================================================================================================\n",
              "ResNet (ResNet)                          [64, 3, 224, 224]    [64, 2]              --                   Partial\n",
              "├─Conv2d (conv1)                         [64, 3, 224, 224]    [64, 64, 112, 112]   (9,408)              False\n",
              "├─BatchNorm2d (bn1)                      [64, 64, 112, 112]   [64, 64, 112, 112]   (128)                False\n",
              "├─ReLU (relu)                            [64, 64, 112, 112]   [64, 64, 112, 112]   --                   --\n",
              "├─MaxPool2d (maxpool)                    [64, 64, 112, 112]   [64, 64, 56, 56]     --                   --\n",
              "├─Sequential (layer1)                    [64, 64, 56, 56]     [64, 64, 56, 56]     --                   False\n",
              "│    └─BasicBlock (0)                    [64, 64, 56, 56]     [64, 64, 56, 56]     --                   False\n",
              "│    │    └─Conv2d (conv1)               [64, 64, 56, 56]     [64, 64, 56, 56]     (36,864)             False\n",
              "│    │    └─BatchNorm2d (bn1)            [64, 64, 56, 56]     [64, 64, 56, 56]     (128)                False\n",
              "│    │    └─ReLU (relu)                  [64, 64, 56, 56]     [64, 64, 56, 56]     --                   --\n",
              "│    │    └─Conv2d (conv2)               [64, 64, 56, 56]     [64, 64, 56, 56]     (36,864)             False\n",
              "│    │    └─BatchNorm2d (bn2)            [64, 64, 56, 56]     [64, 64, 56, 56]     (128)                False\n",
              "│    │    └─ReLU (relu)                  [64, 64, 56, 56]     [64, 64, 56, 56]     --                   --\n",
              "│    └─BasicBlock (1)                    [64, 64, 56, 56]     [64, 64, 56, 56]     --                   False\n",
              "│    │    └─Conv2d (conv1)               [64, 64, 56, 56]     [64, 64, 56, 56]     (36,864)             False\n",
              "│    │    └─BatchNorm2d (bn1)            [64, 64, 56, 56]     [64, 64, 56, 56]     (128)                False\n",
              "│    │    └─ReLU (relu)                  [64, 64, 56, 56]     [64, 64, 56, 56]     --                   --\n",
              "│    │    └─Conv2d (conv2)               [64, 64, 56, 56]     [64, 64, 56, 56]     (36,864)             False\n",
              "│    │    └─BatchNorm2d (bn2)            [64, 64, 56, 56]     [64, 64, 56, 56]     (128)                False\n",
              "│    │    └─ReLU (relu)                  [64, 64, 56, 56]     [64, 64, 56, 56]     --                   --\n",
              "├─Sequential (layer2)                    [64, 64, 56, 56]     [64, 128, 28, 28]    --                   False\n",
              "│    └─BasicBlock (0)                    [64, 64, 56, 56]     [64, 128, 28, 28]    --                   False\n",
              "│    │    └─Conv2d (conv1)               [64, 64, 56, 56]     [64, 128, 28, 28]    (73,728)             False\n",
              "│    │    └─BatchNorm2d (bn1)            [64, 128, 28, 28]    [64, 128, 28, 28]    (256)                False\n",
              "│    │    └─ReLU (relu)                  [64, 128, 28, 28]    [64, 128, 28, 28]    --                   --\n",
              "│    │    └─Conv2d (conv2)               [64, 128, 28, 28]    [64, 128, 28, 28]    (147,456)            False\n",
              "│    │    └─BatchNorm2d (bn2)            [64, 128, 28, 28]    [64, 128, 28, 28]    (256)                False\n",
              "│    │    └─Sequential (downsample)      [64, 64, 56, 56]     [64, 128, 28, 28]    (8,448)              False\n",
              "│    │    └─ReLU (relu)                  [64, 128, 28, 28]    [64, 128, 28, 28]    --                   --\n",
              "│    └─BasicBlock (1)                    [64, 128, 28, 28]    [64, 128, 28, 28]    --                   False\n",
              "│    │    └─Conv2d (conv1)               [64, 128, 28, 28]    [64, 128, 28, 28]    (147,456)            False\n",
              "│    │    └─BatchNorm2d (bn1)            [64, 128, 28, 28]    [64, 128, 28, 28]    (256)                False\n",
              "│    │    └─ReLU (relu)                  [64, 128, 28, 28]    [64, 128, 28, 28]    --                   --\n",
              "│    │    └─Conv2d (conv2)               [64, 128, 28, 28]    [64, 128, 28, 28]    (147,456)            False\n",
              "│    │    └─BatchNorm2d (bn2)            [64, 128, 28, 28]    [64, 128, 28, 28]    (256)                False\n",
              "│    │    └─ReLU (relu)                  [64, 128, 28, 28]    [64, 128, 28, 28]    --                   --\n",
              "├─Sequential (layer3)                    [64, 128, 28, 28]    [64, 256, 14, 14]    --                   False\n",
              "│    └─BasicBlock (0)                    [64, 128, 28, 28]    [64, 256, 14, 14]    --                   False\n",
              "│    │    └─Conv2d (conv1)               [64, 128, 28, 28]    [64, 256, 14, 14]    (294,912)            False\n",
              "│    │    └─BatchNorm2d (bn1)            [64, 256, 14, 14]    [64, 256, 14, 14]    (512)                False\n",
              "│    │    └─ReLU (relu)                  [64, 256, 14, 14]    [64, 256, 14, 14]    --                   --\n",
              "│    │    └─Conv2d (conv2)               [64, 256, 14, 14]    [64, 256, 14, 14]    (589,824)            False\n",
              "│    │    └─BatchNorm2d (bn2)            [64, 256, 14, 14]    [64, 256, 14, 14]    (512)                False\n",
              "│    │    └─Sequential (downsample)      [64, 128, 28, 28]    [64, 256, 14, 14]    (33,280)             False\n",
              "│    │    └─ReLU (relu)                  [64, 256, 14, 14]    [64, 256, 14, 14]    --                   --\n",
              "│    └─BasicBlock (1)                    [64, 256, 14, 14]    [64, 256, 14, 14]    --                   False\n",
              "│    │    └─Conv2d (conv1)               [64, 256, 14, 14]    [64, 256, 14, 14]    (589,824)            False\n",
              "│    │    └─BatchNorm2d (bn1)            [64, 256, 14, 14]    [64, 256, 14, 14]    (512)                False\n",
              "│    │    └─ReLU (relu)                  [64, 256, 14, 14]    [64, 256, 14, 14]    --                   --\n",
              "│    │    └─Conv2d (conv2)               [64, 256, 14, 14]    [64, 256, 14, 14]    (589,824)            False\n",
              "│    │    └─BatchNorm2d (bn2)            [64, 256, 14, 14]    [64, 256, 14, 14]    (512)                False\n",
              "│    │    └─ReLU (relu)                  [64, 256, 14, 14]    [64, 256, 14, 14]    --                   --\n",
              "├─Sequential (layer4)                    [64, 256, 14, 14]    [64, 512, 7, 7]      --                   False\n",
              "│    └─BasicBlock (0)                    [64, 256, 14, 14]    [64, 512, 7, 7]      --                   False\n",
              "│    │    └─Conv2d (conv1)               [64, 256, 14, 14]    [64, 512, 7, 7]      (1,179,648)          False\n",
              "│    │    └─BatchNorm2d (bn1)            [64, 512, 7, 7]      [64, 512, 7, 7]      (1,024)              False\n",
              "│    │    └─ReLU (relu)                  [64, 512, 7, 7]      [64, 512, 7, 7]      --                   --\n",
              "│    │    └─Conv2d (conv2)               [64, 512, 7, 7]      [64, 512, 7, 7]      (2,359,296)          False\n",
              "│    │    └─BatchNorm2d (bn2)            [64, 512, 7, 7]      [64, 512, 7, 7]      (1,024)              False\n",
              "│    │    └─Sequential (downsample)      [64, 256, 14, 14]    [64, 512, 7, 7]      (132,096)            False\n",
              "│    │    └─ReLU (relu)                  [64, 512, 7, 7]      [64, 512, 7, 7]      --                   --\n",
              "│    └─BasicBlock (1)                    [64, 512, 7, 7]      [64, 512, 7, 7]      --                   False\n",
              "│    │    └─Conv2d (conv1)               [64, 512, 7, 7]      [64, 512, 7, 7]      (2,359,296)          False\n",
              "│    │    └─BatchNorm2d (bn1)            [64, 512, 7, 7]      [64, 512, 7, 7]      (1,024)              False\n",
              "│    │    └─ReLU (relu)                  [64, 512, 7, 7]      [64, 512, 7, 7]      --                   --\n",
              "│    │    └─Conv2d (conv2)               [64, 512, 7, 7]      [64, 512, 7, 7]      (2,359,296)          False\n",
              "│    │    └─BatchNorm2d (bn2)            [64, 512, 7, 7]      [64, 512, 7, 7]      (1,024)              False\n",
              "│    │    └─ReLU (relu)                  [64, 512, 7, 7]      [64, 512, 7, 7]      --                   --\n",
              "├─AdaptiveAvgPool2d (avgpool)            [64, 512, 7, 7]      [64, 512, 1, 1]      --                   --\n",
              "├─Sequential (fc)                        [64, 512]            [64, 2]              --                   True\n",
              "│    └─BatchNorm1d (0)                   [64, 512]            [64, 512]            1,024                True\n",
              "│    └─Dropout (1)                       [64, 512]            [64, 512]            --                   --\n",
              "│    └─Linear (2)                        [64, 512]            [64, 256]            131,328              True\n",
              "│    └─ReLU (3)                          [64, 256]            [64, 256]            --                   --\n",
              "│    └─BatchNorm1d (4)                   [64, 256]            [64, 256]            512                  True\n",
              "│    └─Dropout (5)                       [64, 256]            [64, 256]            --                   --\n",
              "│    └─Linear (6)                        [64, 256]            [64, 128]            32,896               True\n",
              "│    └─ReLU (7)                          [64, 128]            [64, 128]            --                   --\n",
              "│    └─BatchNorm1d (8)                   [64, 128]            [64, 128]            256                  True\n",
              "│    └─Dropout (9)                       [64, 128]            [64, 128]            --                   --\n",
              "│    └─Linear (10)                       [64, 128]            [64, 2]              258                  True\n",
              "========================================================================================================================\n",
              "Total params: 11,342,786\n",
              "Trainable params: 166,274\n",
              "Non-trainable params: 11,176,512\n",
              "Total mult-adds (G): 116.08\n",
              "========================================================================================================================\n",
              "Input size (MB): 38.54\n",
              "Forward/backward pass size (MB): 2543.98\n",
              "Params size (MB): 45.37\n",
              "Estimated Total Size (MB): 2627.88\n",
              "========================================================================================================================"
            ]
          },
          "metadata": {},
          "execution_count": 30
        }
      ],
      "source": [
        "\n",
        "summary(model=model,\n",
        "        input_size=(batch_size, 3, 224, 224), # make sure this is \"input_size\", not \"input_shape\"\n",
        "        col_names=[\"input_size\", \"output_size\", \"num_params\", \"trainable\"],\n",
        "        col_width=20,\n",
        "        row_settings=[\"var_names\"]\n",
        ")"
      ]
    },
    {
      "cell_type": "markdown",
      "metadata": {
        "id": "8Og1TSzpsZ9w"
      },
      "source": [
        "Training the model"
      ]
    },
    {
      "cell_type": "code",
      "execution_count": null,
      "metadata": {
        "colab": {
          "base_uri": "https://localhost:8080/",
          "height": 587,
          "referenced_widgets": [
            "e59909e186d240e38f8bf4bd56598bb2",
            "8fbdaf584b0341efa443a8056ded50c2",
            "00919ca5149844079a5defe3b3973106",
            "ac8763a9120549b98034880abc9f0107",
            "b287330402ee4caf9feed5b8f65d3b9c",
            "fa2132f5b4674addaf71cdf4ce57764e",
            "00fa01ed292e4aedaa87d77afa6eeae5",
            "34b35298d72a483fb1abfd81ac309045",
            "e0200e9f24184afdbd3bfe6dcf719a01",
            "1ae5c82ac37a47c39e5ce1d1813e6f7e",
            "a31289b3bf7a4d1995ca45fb215d8840"
          ]
        },
        "id": "-7YY7h2LCdyy",
        "outputId": "5dbd2c50-dcc0-4929-cc1a-cf594eeea702"
      },
      "outputs": [
        {
          "output_type": "display_data",
          "data": {
            "text/plain": [
              "  0%|          | 0/30 [00:00<?, ?it/s]"
            ],
            "application/vnd.jupyter.widget-view+json": {
              "version_major": 2,
              "version_minor": 0,
              "model_id": "e59909e186d240e38f8bf4bd56598bb2"
            }
          },
          "metadata": {}
        },
        {
          "output_type": "stream",
          "name": "stdout",
          "text": [
            "Epoch: 1 | train_loss: 0.7713 | train_acc: 0.4940 | test_loss: 0.7154 | test_acc: 0.3947 | train_f1: 0.5506 | test_f1: 0.0899\n",
            "Epoch: 2 | train_loss: 0.7372 | train_acc: 0.5386 | test_loss: 0.7081 | test_acc: 0.4497 | train_f1: 0.5783 | test_f1: 0.2559\n",
            "Epoch: 3 | train_loss: 0.6722 | train_acc: 0.5644 | test_loss: 0.6903 | test_acc: 0.5208 | train_f1: 0.6266 | test_f1: 0.4106\n",
            "Epoch: 4 | train_loss: 0.6898 | train_acc: 0.5964 | test_loss: 0.6702 | test_acc: 0.5770 | train_f1: 0.6413 | test_f1: 0.5223\n",
            "Epoch: 5 | train_loss: 0.6099 | train_acc: 0.6874 | test_loss: 0.6420 | test_acc: 0.6452 | train_f1: 0.7261 | test_f1: 0.6436\n",
            "Epoch: 6 | train_loss: 0.5813 | train_acc: 0.7309 | test_loss: 0.6086 | test_acc: 0.6790 | train_f1: 0.7579 | test_f1: 0.6941\n",
            "Epoch: 7 | train_loss: 0.5058 | train_acc: 0.7596 | test_loss: 0.5652 | test_acc: 0.6961 | train_f1: 0.7919 | test_f1: 0.7254\n",
            "Epoch: 8 | train_loss: 0.4965 | train_acc: 0.7834 | test_loss: 0.5221 | test_acc: 0.7272 | train_f1: 0.8132 | test_f1: 0.7585\n",
            "Epoch: 9 | train_loss: 0.4725 | train_acc: 0.7825 | test_loss: 0.4825 | test_acc: 0.7680 | train_f1: 0.8119 | test_f1: 0.8077\n",
            "Epoch: 10 | train_loss: 0.4619 | train_acc: 0.7989 | test_loss: 0.4428 | test_acc: 0.8426 | train_f1: 0.8231 | test_f1: 0.8679\n",
            "Epoch: 11 | train_loss: 0.4388 | train_acc: 0.7909 | test_loss: 0.4105 | test_acc: 0.8742 | train_f1: 0.8178 | test_f1: 0.8992\n",
            "Epoch: 12 | train_loss: 0.4356 | train_acc: 0.8186 | test_loss: 0.3799 | test_acc: 0.8854 | train_f1: 0.8422 | test_f1: 0.9078\n",
            "Epoch: 13 | train_loss: 0.4062 | train_acc: 0.8377 | test_loss: 0.3541 | test_acc: 0.9053 | train_f1: 0.8633 | test_f1: 0.9232\n",
            "Epoch: 14 | train_loss: 0.3914 | train_acc: 0.8539 | test_loss: 0.3349 | test_acc: 0.9211 | train_f1: 0.8749 | test_f1: 0.9347\n",
            "Epoch: 15 | train_loss: 0.3737 | train_acc: 0.8701 | test_loss: 0.3163 | test_acc: 0.9205 | train_f1: 0.8878 | test_f1: 0.9347\n",
            "Epoch: 16 | train_loss: 0.3735 | train_acc: 0.8338 | test_loss: 0.2996 | test_acc: 0.9207 | train_f1: 0.8588 | test_f1: 0.9358\n",
            "Epoch: 17 | train_loss: 0.3519 | train_acc: 0.8697 | test_loss: 0.2862 | test_acc: 0.9172 | train_f1: 0.8914 | test_f1: 0.9260\n",
            "Epoch: 18 | train_loss: 0.3353 | train_acc: 0.8893 | test_loss: 0.2766 | test_acc: 0.9403 | train_f1: 0.9060 | test_f1: 0.9478\n",
            "Epoch: 19 | train_loss: 0.3303 | train_acc: 0.8881 | test_loss: 0.2650 | test_acc: 0.9451 | train_f1: 0.9053 | test_f1: 0.9549\n",
            "Epoch: 20 | train_loss: 0.3430 | train_acc: 0.8696 | test_loss: 0.2556 | test_acc: 0.9486 | train_f1: 0.8899 | test_f1: 0.9573\n",
            "Epoch: 21 | train_loss: 0.3421 | train_acc: 0.8578 | test_loss: 0.2466 | test_acc: 0.9524 | train_f1: 0.8819 | test_f1: 0.9590\n",
            "Epoch: 22 | train_loss: 0.3069 | train_acc: 0.8969 | test_loss: 0.2380 | test_acc: 0.9488 | train_f1: 0.9136 | test_f1: 0.9554\n",
            "Epoch: 23 | train_loss: 0.3072 | train_acc: 0.8651 | test_loss: 0.2275 | test_acc: 0.9602 | train_f1: 0.8820 | test_f1: 0.9665\n",
            "Epoch: 24 | train_loss: 0.2863 | train_acc: 0.9051 | test_loss: 0.2172 | test_acc: 0.9643 | train_f1: 0.9219 | test_f1: 0.9709\n",
            "Epoch: 25 | train_loss: 0.2645 | train_acc: 0.9008 | test_loss: 0.2119 | test_acc: 0.9684 | train_f1: 0.9170 | test_f1: 0.9739\n",
            "Epoch: 26 | train_loss: 0.2583 | train_acc: 0.9051 | test_loss: 0.2026 | test_acc: 0.9688 | train_f1: 0.9205 | test_f1: 0.9727\n",
            "Epoch: 27 | train_loss: 0.2498 | train_acc: 0.9211 | test_loss: 0.1956 | test_acc: 0.9725 | train_f1: 0.9345 | test_f1: 0.9771\n",
            "Epoch: 28 | train_loss: 0.2584 | train_acc: 0.9168 | test_loss: 0.1870 | test_acc: 0.9723 | train_f1: 0.9319 | test_f1: 0.9776\n",
            "Epoch: 29 | train_loss: 0.2449 | train_acc: 0.9285 | test_loss: 0.1831 | test_acc: 0.9762 | train_f1: 0.9402 | test_f1: 0.9807\n",
            "Epoch: 30 | train_loss: 0.2630 | train_acc: 0.9129 | test_loss: 0.1738 | test_acc: 0.9760 | train_f1: 0.9281 | test_f1: 0.9806\n",
            "Total training time: 1025.849 seconds\n"
          ]
        }
      ],
      "source": [
        "#Tune hyperparameters\n",
        "NUM_EPOCHS = 30\n",
        "loss_func = nn.CrossEntropyLoss()\n",
        "optimizer = opt.SGD(model.parameters(), lr =0.0005, momentum = 0.9)\n",
        "\n",
        "# Start the timer\n",
        "from timeit import default_timer as timer\n",
        "start_time = timer()\n",
        "\n",
        "pt_results = train(model=model,\n",
        "                        train_dataloader=train_loader,\n",
        "                        test_dataloader=test_loader,\n",
        "                        optimizer=optimizer,\n",
        "                        loss_fn=loss_func,\n",
        "                        epochs=NUM_EPOCHS)\n",
        "\n",
        "# End the timer and print out how long it took\n",
        "end_time = timer()\n",
        "print(f\"Total training time: {end_time-start_time:.3f} seconds\")\n"
      ]
    },
    {
      "cell_type": "markdown",
      "metadata": {
        "id": "hmkw_2QUsRHe"
      },
      "source": [
        "Training and Testing Graphs"
      ]
    },
    {
      "cell_type": "code",
      "execution_count": null,
      "metadata": {
        "colab": {
          "base_uri": "https://localhost:8080/",
          "height": 458
        },
        "id": "-1AoHiC9CpSe",
        "outputId": "18b015d1-4b96-4735-c2cc-472ce5f513fe"
      },
      "outputs": [
        {
          "output_type": "display_data",
          "data": {
            "text/plain": [
              "<Figure size 1728x504 with 3 Axes>"
            ],
            "image/png": "[encoded data removed]"
          },
          "metadata": {
            "needs_background": "light"
          }
        }
      ],
      "source": [
        "plot_loss_curves(pt_results)"
      ]
    },
    {
      "cell_type": "markdown",
      "source": [
        "CONFUSION MATRIX"
      ],
      "metadata": {
        "id": "Um6Z073Ntcxj"
      }
    },
    {
      "cell_type": "code",
      "source": [
        "from sklearn.metrics import confusion_matrix\n",
        "import seaborn as sns\n",
        "import numpy as np\n",
        "\n",
        "def CF(model: torch.nn.Module, dataloader: torch.utils.data.DataLoader):\n",
        "\n",
        "    # Put model in eval mode\n",
        "    model.eval()\n",
        "    y_pred = []\n",
        "    y_true = []\n",
        "    with torch.inference_mode():\n",
        "\n",
        "        for (X, y) in dataloader:\n",
        "          X,y = X.to(device),y.to(device)\n",
        "          output = model(X)\n",
        "          output = (torch.max(torch.exp(output), 1)[1]).data.cpu().numpy()\n",
        "          y_pred.extend(output) # Save Predicted Value\n",
        "\n",
        "          y = y.data.cpu().numpy()\n",
        "          y_true.extend(y) # Save True Value\n",
        "\n",
        "\n",
        "    cf_matrix = confusion_matrix(y_true, y_pred)\n",
        "    precision = cf_matrix[1,1] / sum(cf_matrix[:,1])\n",
        "    recall    = cf_matrix[1,1] / sum(cf_matrix[1,:])\n",
        "    f1_score  = 2*precision*recall / (precision + recall)\n",
        "\n",
        "    print(\"\\nPrecision={:0.3f}\\nRecall={:0.3f}\\nF1 Score={:0.3f}\".format(precision,recall,f1_score))\n",
        "\n",
        "    names = ['True Neg','False Pos','False Neg','True Pos']\n",
        "\n",
        "    counts = [\"{0:0.0f}\".format(value) for value in cf_matrix.flatten()]\n",
        "\n",
        "    percentages = [\"{0:.2%}\".format(value) for value in cf_matrix.flatten()/np.sum(cf_matrix)]\n",
        "\n",
        "    labels = [f\"{v1}\\n{v2}\\n{v3}\" for v1, v2, v3 in zip(names,counts,percentages)]\n",
        "\n",
        "    labels = np.asarray(labels).reshape(2,2)\n",
        "    return (sns.heatmap(cf_matrix, annot=labels, fmt='', cmap='Blues'))"
      ],
      "metadata": {
        "id": "-1U69gjTtKGP"
      },
      "execution_count": null,
      "outputs": []
    },
    {
      "cell_type": "code",
      "source": [
        "CF(model,test_loader)"
      ],
      "metadata": {
        "colab": {
          "base_uri": "https://localhost:8080/",
          "height": 352
        },
        "id": "_YtNcqBltWsW",
        "outputId": "0d133503-fd82-47bd-9041-4e57fce63d0f"
      },
      "execution_count": null,
      "outputs": [
        {
          "output_type": "stream",
          "name": "stdout",
          "text": [
            "\n",
            "Precision=0.981\n",
            "Recall=0.981\n",
            "F1 Score=0.981\n"
          ]
        },
        {
          "output_type": "execute_result",
          "data": {
            "text/plain": [
              "<matplotlib.axes._subplots.AxesSubplot at 0x7f3441b17e80>"
            ]
          },
          "metadata": {},
          "execution_count": 36
        },
        {
          "output_type": "display_data",
          "data": {
            "text/plain": [
              "<Figure size 432x288 with 2 Axes>"
            ],
            "image/png": "[encoded data removed]"
          },
          "metadata": {
            "needs_background": "light"
          }
        }
      ]
    },
    {
      "cell_type": "code",
      "execution_count": null,
      "metadata": {
        "id": "9Xrre4pAjwsK"
      },
      "outputs": [],
      "source": [
        "PATH = 'model.pt'\n",
        "torch.save(model, PATH)"
      ]
    },
    {
      "cell_type": "code",
      "execution_count": null,
      "metadata": {
        "id": "IAYzQKGKmHVn"
      },
      "outputs": [],
      "source": [
        "# model = torch.load(PATH)\n",
        "# model.eval()"
      ]
    }
  ],
  "metadata": {
    "colab": {
      "provenance": []
    },
    "gpuClass": "standard",
    "kernelspec": {
      "display_name": "Python 3",
      "name": "python3"
    },
    "language_info": {
      "name": "python"
    },
    "widgets": {
      "application/vnd.jupyter.widget-state+json": {
        "e59909e186d240e38f8bf4bd56598bb2": {
          "model_module": "@jupyter-widgets/controls",
          "model_name": "HBoxModel",
          "model_module_version": "1.5.0",
          "state": {
            "_dom_classes": [],
            "_model_module": "@jupyter-widgets/controls",
            "_model_module_version": "1.5.0",
            "_model_name": "HBoxModel",
            "_view_count": null,
            "_view_module": "@jupyter-widgets/controls",
            "_view_module_version": "1.5.0",
            "_view_name": "HBoxView",
            "box_style": "",
            "children": [
              "IPY_MODEL_8fbdaf584b0341efa443a8056ded50c2",
              "IPY_MODEL_00919ca5149844079a5defe3b3973106",
              "IPY_MODEL_ac8763a9120549b98034880abc9f0107"
            ],
            "layout": "IPY_MODEL_b287330402ee4caf9feed5b8f65d3b9c"
          }
        },
        "8fbdaf584b0341efa443a8056ded50c2": {
          "model_module": "@jupyter-widgets/controls",
          "model_name": "HTMLModel",
          "model_module_version": "1.5.0",
          "state": {
            "_dom_classes": [],
            "_model_module": "@jupyter-widgets/controls",
            "_model_module_version": "1.5.0",
            "_model_name": "HTMLModel",
            "_view_count": null,
            "_view_module": "@jupyter-widgets/controls",
            "_view_module_version": "1.5.0",
            "_view_name": "HTMLView",
            "description": "",
            "description_tooltip": null,
            "layout": "IPY_MODEL_fa2132f5b4674addaf71cdf4ce57764e",
            "placeholder": "​",
            "style": "IPY_MODEL_00fa01ed292e4aedaa87d77afa6eeae5",
            "value": "100%"
          }
        },
        "00919ca5149844079a5defe3b3973106": {
          "model_module": "@jupyter-widgets/controls",
          "model_name": "FloatProgressModel",
          "model_module_version": "1.5.0",
          "state": {
            "_dom_classes": [],
            "_model_module": "@jupyter-widgets/controls",
            "_model_module_version": "1.5.0",
            "_model_name": "FloatProgressModel",
            "_view_count": null,
            "_view_module": "@jupyter-widgets/controls",
            "_view_module_version": "1.5.0",
            "_view_name": "ProgressView",
            "bar_style": "success",
            "description": "",
            "description_tooltip": null,
            "layout": "IPY_MODEL_34b35298d72a483fb1abfd81ac309045",
            "max": 30,
            "min": 0,
            "orientation": "horizontal",
            "style": "IPY_MODEL_e0200e9f24184afdbd3bfe6dcf719a01",
            "value": 30
          }
        },
        "ac8763a9120549b98034880abc9f0107": {
          "model_module": "@jupyter-widgets/controls",
          "model_name": "HTMLModel",
          "model_module_version": "1.5.0",
          "state": {
            "_dom_classes": [],
            "_model_module": "@jupyter-widgets/controls",
            "_model_module_version": "1.5.0",
            "_model_name": "HTMLModel",
            "_view_count": null,
            "_view_module": "@jupyter-widgets/controls",
            "_view_module_version": "1.5.0",
            "_view_name": "HTMLView",
            "description": "",
            "description_tooltip": null,
            "layout": "IPY_MODEL_1ae5c82ac37a47c39e5ce1d1813e6f7e",
            "placeholder": "​",
            "style": "IPY_MODEL_a31289b3bf7a4d1995ca45fb215d8840",
            "value": " 30/30 [17:05&lt;00:00, 33.78s/it]"
          }
        },
        "b287330402ee4caf9feed5b8f65d3b9c": {
          "model_module": "@jupyter-widgets/base",
          "model_name": "LayoutModel",
          "model_module_version": "1.2.0",
          "state": {
            "_model_module": "@jupyter-widgets/base",
            "_model_module_version": "1.2.0",
            "_model_name": "LayoutModel",
            "_view_count": null,
            "_view_module": "@jupyter-widgets/base",
            "_view_module_version": "1.2.0",
            "_view_name": "LayoutView",
            "align_content": null,
            "align_items": null,
            "align_self": null,
            "border": null,
            "bottom": null,
            "display": null,
            "flex": null,
            "flex_flow": null,
            "grid_area": null,
            "grid_auto_columns": null,
            "grid_auto_flow": null,
            "grid_auto_rows": null,
            "grid_column": null,
            "grid_gap": null,
            "grid_row": null,
            "grid_template_areas": null,
            "grid_template_columns": null,
            "grid_template_rows": null,
            "height": null,
            "justify_content": null,
            "justify_items": null,
            "left": null,
            "margin": null,
            "max_height": null,
            "max_width": null,
            "min_height": null,
            "min_width": null,
            "object_fit": null,
            "object_position": null,
            "order": null,
            "overflow": null,
            "overflow_x": null,
            "overflow_y": null,
            "padding": null,
            "right": null,
            "top": null,
            "visibility": null,
            "width": null
          }
        },
        "fa2132f5b4674addaf71cdf4ce57764e": {
          "model_module": "@jupyter-widgets/base",
          "model_name": "LayoutModel",
          "model_module_version": "1.2.0",
          "state": {
            "_model_module": "@jupyter-widgets/base",
            "_model_module_version": "1.2.0",
            "_model_name": "LayoutModel",
            "_view_count": null,
            "_view_module": "@jupyter-widgets/base",
            "_view_module_version": "1.2.0",
            "_view_name": "LayoutView",
            "align_content": null,
            "align_items": null,
            "align_self": null,
            "border": null,
            "bottom": null,
            "display": null,
            "flex": null,
            "flex_flow": null,
            "grid_area": null,
            "grid_auto_columns": null,
            "grid_auto_flow": null,
            "grid_auto_rows": null,
            "grid_column": null,
            "grid_gap": null,
            "grid_row": null,
            "grid_template_areas": null,
            "grid_template_columns": null,
            "grid_template_rows": null,
            "height": null,
            "justify_content": null,
            "justify_items": null,
            "left": null,
            "margin": null,
            "max_height": null,
            "max_width": null,
            "min_height": null,
            "min_width": null,
            "object_fit": null,
            "object_position": null,
            "order": null,
            "overflow": null,
            "overflow_x": null,
            "overflow_y": null,
            "padding": null,
            "right": null,
            "top": null,
            "visibility": null,
            "width": null
          }
        },
        "00fa01ed292e4aedaa87d77afa6eeae5": {
          "model_module": "@jupyter-widgets/controls",
          "model_name": "DescriptionStyleModel",
          "model_module_version": "1.5.0",
          "state": {
            "_model_module": "@jupyter-widgets/controls",
            "_model_module_version": "1.5.0",
            "_model_name": "DescriptionStyleModel",
            "_view_count": null,
            "_view_module": "@jupyter-widgets/base",
            "_view_module_version": "1.2.0",
            "_view_name": "StyleView",
            "description_width": ""
          }
        },
        "34b35298d72a483fb1abfd81ac309045": {
          "model_module": "@jupyter-widgets/base",
          "model_name": "LayoutModel",
          "model_module_version": "1.2.0",
          "state": {
            "_model_module": "@jupyter-widgets/base",
            "_model_module_version": "1.2.0",
            "_model_name": "LayoutModel",
            "_view_count": null,
            "_view_module": "@jupyter-widgets/base",
            "_view_module_version": "1.2.0",
            "_view_name": "LayoutView",
            "align_content": null,
            "align_items": null,
            "align_self": null,
            "border": null,
            "bottom": null,
            "display": null,
            "flex": null,
            "flex_flow": null,
            "grid_area": null,
            "grid_auto_columns": null,
            "grid_auto_flow": null,
            "grid_auto_rows": null,
            "grid_column": null,
            "grid_gap": null,
            "grid_row": null,
            "grid_template_areas": null,
            "grid_template_columns": null,
            "grid_template_rows": null,
            "height": null,
            "justify_content": null,
            "justify_items": null,
            "left": null,
            "margin": null,
            "max_height": null,
            "max_width": null,
            "min_height": null,
            "min_width": null,
            "object_fit": null,
            "object_position": null,
            "order": null,
            "overflow": null,
            "overflow_x": null,
            "overflow_y": null,
            "padding": null,
            "right": null,
            "top": null,
            "visibility": null,
            "width": null
          }
        },
        "e0200e9f24184afdbd3bfe6dcf719a01": {
          "model_module": "@jupyter-widgets/controls",
          "model_name": "ProgressStyleModel",
          "model_module_version": "1.5.0",
          "state": {
            "_model_module": "@jupyter-widgets/controls",
            "_model_module_version": "1.5.0",
            "_model_name": "ProgressStyleModel",
            "_view_count": null,
            "_view_module": "@jupyter-widgets/base",
            "_view_module_version": "1.2.0",
            "_view_name": "StyleView",
            "bar_color": null,
            "description_width": ""
          }
        },
        "1ae5c82ac37a47c39e5ce1d1813e6f7e": {
          "model_module": "@jupyter-widgets/base",
          "model_name": "LayoutModel",
          "model_module_version": "1.2.0",
          "state": {
            "_model_module": "@jupyter-widgets/base",
            "_model_module_version": "1.2.0",
            "_model_name": "LayoutModel",
            "_view_count": null,
            "_view_module": "@jupyter-widgets/base",
            "_view_module_version": "1.2.0",
            "_view_name": "LayoutView",
            "align_content": null,
            "align_items": null,
            "align_self": null,
            "border": null,
            "bottom": null,
            "display": null,
            "flex": null,
            "flex_flow": null,
            "grid_area": null,
            "grid_auto_columns": null,
            "grid_auto_flow": null,
            "grid_auto_rows": null,
            "grid_column": null,
            "grid_gap": null,
            "grid_row": null,
            "grid_template_areas": null,
            "grid_template_columns": null,
            "grid_template_rows": null,
            "height": null,
            "justify_content": null,
            "justify_items": null,
            "left": null,
            "margin": null,
            "max_height": null,
            "max_width": null,
            "min_height": null,
            "min_width": null,
            "object_fit": null,
            "object_position": null,
            "order": null,
            "overflow": null,
            "overflow_x": null,
            "overflow_y": null,
            "padding": null,
            "right": null,
            "top": null,
            "visibility": null,
            "width": null
          }
        },
        "a31289b3bf7a4d1995ca45fb215d8840": {
          "model_module": "@jupyter-widgets/controls",
          "model_name": "DescriptionStyleModel",
          "model_module_version": "1.5.0",
          "state": {
            "_model_module": "@jupyter-widgets/controls",
            "_model_module_version": "1.5.0",
            "_model_name": "DescriptionStyleModel",
            "_view_count": null,
            "_view_module": "@jupyter-widgets/base",
            "_view_module_version": "1.2.0",
            "_view_name": "StyleView",
            "description_width": ""
          }
        }
      }
    }
  },
  "nbformat": 4,
  "nbformat_minor": 0
}